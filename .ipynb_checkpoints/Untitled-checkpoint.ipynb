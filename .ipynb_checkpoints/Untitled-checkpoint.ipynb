{
 "cells": [
  {
   "cell_type": "code",
   "execution_count": 12,
   "id": "a440abcd",
   "metadata": {},
   "outputs": [
    {
     "name": "stdout",
     "output_type": "stream",
     "text": [
      "movie shape :  (9742, 3)\n",
      "rating shape :  (100836, 4)\n"
     ]
    },
    {
     "data": {
      "text/html": [
       "<div>\n",
       "<style scoped>\n",
       "    .dataframe tbody tr th:only-of-type {\n",
       "        vertical-align: middle;\n",
       "    }\n",
       "\n",
       "    .dataframe tbody tr th {\n",
       "        vertical-align: top;\n",
       "    }\n",
       "\n",
       "    .dataframe thead th {\n",
       "        text-align: right;\n",
       "    }\n",
       "</style>\n",
       "<table border=\"1\" class=\"dataframe\">\n",
       "  <thead>\n",
       "    <tr style=\"text-align: right;\">\n",
       "      <th></th>\n",
       "      <th>movieId</th>\n",
       "      <th>title</th>\n",
       "      <th>genres</th>\n",
       "    </tr>\n",
       "  </thead>\n",
       "  <tbody>\n",
       "    <tr>\n",
       "      <th>0</th>\n",
       "      <td>1</td>\n",
       "      <td>Toy Story (1995)</td>\n",
       "      <td>Adventure|Animation|Children|Comedy|Fantasy</td>\n",
       "    </tr>\n",
       "    <tr>\n",
       "      <th>1</th>\n",
       "      <td>2</td>\n",
       "      <td>Jumanji (1995)</td>\n",
       "      <td>Adventure|Children|Fantasy</td>\n",
       "    </tr>\n",
       "    <tr>\n",
       "      <th>2</th>\n",
       "      <td>3</td>\n",
       "      <td>Grumpier Old Men (1995)</td>\n",
       "      <td>Comedy|Romance</td>\n",
       "    </tr>\n",
       "    <tr>\n",
       "      <th>3</th>\n",
       "      <td>4</td>\n",
       "      <td>Waiting to Exhale (1995)</td>\n",
       "      <td>Comedy|Drama|Romance</td>\n",
       "    </tr>\n",
       "    <tr>\n",
       "      <th>4</th>\n",
       "      <td>5</td>\n",
       "      <td>Father of the Bride Part II (1995)</td>\n",
       "      <td>Comedy</td>\n",
       "    </tr>\n",
       "  </tbody>\n",
       "</table>\n",
       "</div>"
      ],
      "text/plain": [
       "   movieId                               title  \\\n",
       "0        1                    Toy Story (1995)   \n",
       "1        2                      Jumanji (1995)   \n",
       "2        3             Grumpier Old Men (1995)   \n",
       "3        4            Waiting to Exhale (1995)   \n",
       "4        5  Father of the Bride Part II (1995)   \n",
       "\n",
       "                                        genres  \n",
       "0  Adventure|Animation|Children|Comedy|Fantasy  \n",
       "1                   Adventure|Children|Fantasy  \n",
       "2                               Comedy|Romance  \n",
       "3                         Comedy|Drama|Romance  \n",
       "4                                       Comedy  "
      ]
     },
     "metadata": {},
     "output_type": "display_data"
    },
    {
     "data": {
      "text/html": [
       "<div>\n",
       "<style scoped>\n",
       "    .dataframe tbody tr th:only-of-type {\n",
       "        vertical-align: middle;\n",
       "    }\n",
       "\n",
       "    .dataframe tbody tr th {\n",
       "        vertical-align: top;\n",
       "    }\n",
       "\n",
       "    .dataframe thead th {\n",
       "        text-align: right;\n",
       "    }\n",
       "</style>\n",
       "<table border=\"1\" class=\"dataframe\">\n",
       "  <thead>\n",
       "    <tr style=\"text-align: right;\">\n",
       "      <th></th>\n",
       "      <th>userId</th>\n",
       "      <th>movieId</th>\n",
       "      <th>rating</th>\n",
       "      <th>timestamp</th>\n",
       "    </tr>\n",
       "  </thead>\n",
       "  <tbody>\n",
       "    <tr>\n",
       "      <th>0</th>\n",
       "      <td>1</td>\n",
       "      <td>1</td>\n",
       "      <td>4.0</td>\n",
       "      <td>964982703</td>\n",
       "    </tr>\n",
       "    <tr>\n",
       "      <th>1</th>\n",
       "      <td>1</td>\n",
       "      <td>3</td>\n",
       "      <td>4.0</td>\n",
       "      <td>964981247</td>\n",
       "    </tr>\n",
       "    <tr>\n",
       "      <th>2</th>\n",
       "      <td>1</td>\n",
       "      <td>6</td>\n",
       "      <td>4.0</td>\n",
       "      <td>964982224</td>\n",
       "    </tr>\n",
       "    <tr>\n",
       "      <th>3</th>\n",
       "      <td>1</td>\n",
       "      <td>47</td>\n",
       "      <td>5.0</td>\n",
       "      <td>964983815</td>\n",
       "    </tr>\n",
       "    <tr>\n",
       "      <th>4</th>\n",
       "      <td>1</td>\n",
       "      <td>50</td>\n",
       "      <td>5.0</td>\n",
       "      <td>964982931</td>\n",
       "    </tr>\n",
       "  </tbody>\n",
       "</table>\n",
       "</div>"
      ],
      "text/plain": [
       "   userId  movieId  rating  timestamp\n",
       "0       1        1     4.0  964982703\n",
       "1       1        3     4.0  964981247\n",
       "2       1        6     4.0  964982224\n",
       "3       1       47     5.0  964983815\n",
       "4       1       50     5.0  964982931"
      ]
     },
     "metadata": {},
     "output_type": "display_data"
    }
   ],
   "source": [
    "import pandas as pd\n",
    "from sklearn.metrics.pairwise import cosine_similarity\n",
    "\n",
    "# 데이터 불러오기\n",
    "movies = pd.read_csv('ml-latest-small\\movies.csv')\n",
    "ratings = pd.read_csv('ml-latest-small/ratings.csv')\n",
    "\n",
    "print(\"movie shape : \", movies.shape)\n",
    "print(\"rating shape : \", ratings.shape)\n",
    "\n",
    "display(movies.head())\n",
    "display(ratings.head())"
   ]
  },
  {
   "cell_type": "code",
   "execution_count": 18,
   "id": "44cceb08",
   "metadata": {},
   "outputs": [
    {
     "name": "stderr",
     "output_type": "stream",
     "text": [
      "C:\\Users\\kywon\\AppData\\Local\\Programs\\Python\\Python311\\Lib\\site-packages\\sklearn\\utils\\extmath.py:203: RuntimeWarning: invalid value encountered in matmul\n",
      "  ret = a @ b\n"
     ]
    },
    {
     "data": {
      "text/plain": [
       "array([1.        , 0.41056206, 0.2969169 , 0.03557272, 0.3087623 ,\n",
       "       0.37631587, 0.27749056, 0.131629  , 0.23258593, 0.39557323])"
      ]
     },
     "execution_count": 18,
     "metadata": {},
     "output_type": "execute_result"
    }
   ],
   "source": [
    "# 유저-영화 평점 매트릭스\n",
    "rating_matrix = ratings.pivot_table(index='userId', columns='movieId', values='rating').fillna(0)\n",
    "\n",
    "# 영화 간 유사도 계산\n",
    "movie_similarity = cosine_similarity(rating_matrix.T)\n",
    "\n",
    "movie_similarity[0][:10]"
   ]
  },
  {
   "cell_type": "code",
   "execution_count": 36,
   "id": "3b28119b",
   "metadata": {},
   "outputs": [
    {
     "name": "stdout",
     "output_type": "stream",
     "text": [
      "movieId :  2\n",
      "[(322, 0.5884377258584123), (436, 0.5498181061555003), (325, 0.5449810767978691), (418, 0.5380455669772968), (504, 0.5248764206089308), (483, 0.5181613195590727), (506, 0.515619976850775), (512, 0.5074579891325981), (18, 0.497560264136898), (276, 0.4973675079070729)]\n"
     ]
    }
   ],
   "source": [
    "# 영화 제목으로 추천 리스트 출력하는 로직 만들기\n",
    "title = 'Jumanji (1995)'\n",
    "movieId = movies[movies.title==title].movieId.values[0]\n",
    "print(\"movieId : \", movieId)\n",
    "\n",
    "similar_scores = list(enumerate(movie_similarity[movieId-1]))\n",
    "sorted_scores = sorted(similar_scores, key=lambda x: x[1], reverse=True) \n",
    "# lambda x: x[1]는 각 튜플의 두 번째 요소(유사도 값)를 기준으로 정렬\n",
    "top_similar_movies = sorted_scores[1:11] \n",
    "print(top_similar_movies)"
   ]
  },
  {
   "cell_type": "code",
   "execution_count": 73,
   "id": "5edf4bc8",
   "metadata": {},
   "outputs": [
    {
     "data": {
      "text/html": [
       "<div>\n",
       "<style scoped>\n",
       "    .dataframe tbody tr th:only-of-type {\n",
       "        vertical-align: middle;\n",
       "    }\n",
       "\n",
       "    .dataframe tbody tr th {\n",
       "        vertical-align: top;\n",
       "    }\n",
       "\n",
       "    .dataframe thead th {\n",
       "        text-align: right;\n",
       "    }\n",
       "</style>\n",
       "<table border=\"1\" class=\"dataframe\">\n",
       "  <thead>\n",
       "    <tr style=\"text-align: right;\">\n",
       "      <th></th>\n",
       "      <th>movieId</th>\n",
       "      <th>average_rating</th>\n",
       "      <th>rating_count</th>\n",
       "    </tr>\n",
       "  </thead>\n",
       "  <tbody>\n",
       "    <tr>\n",
       "      <th>0</th>\n",
       "      <td>1</td>\n",
       "      <td>3.920930</td>\n",
       "      <td>215</td>\n",
       "    </tr>\n",
       "    <tr>\n",
       "      <th>1</th>\n",
       "      <td>2</td>\n",
       "      <td>3.431818</td>\n",
       "      <td>110</td>\n",
       "    </tr>\n",
       "    <tr>\n",
       "      <th>2</th>\n",
       "      <td>3</td>\n",
       "      <td>3.259615</td>\n",
       "      <td>52</td>\n",
       "    </tr>\n",
       "    <tr>\n",
       "      <th>3</th>\n",
       "      <td>4</td>\n",
       "      <td>2.357143</td>\n",
       "      <td>7</td>\n",
       "    </tr>\n",
       "    <tr>\n",
       "      <th>4</th>\n",
       "      <td>5</td>\n",
       "      <td>3.071429</td>\n",
       "      <td>49</td>\n",
       "    </tr>\n",
       "  </tbody>\n",
       "</table>\n",
       "</div>"
      ],
      "text/plain": [
       "   movieId  average_rating  rating_count\n",
       "0        1        3.920930           215\n",
       "1        2        3.431818           110\n",
       "2        3        3.259615            52\n",
       "3        4        2.357143             7\n",
       "4        5        3.071429            49"
      ]
     },
     "metadata": {},
     "output_type": "display_data"
    }
   ],
   "source": [
    "# 영화별 평균 평점과 평점 수 집계\n",
    "movie_stats = ratings.groupby('movieId')['rating'].agg(['mean', 'count']).reset_index()\n",
    "movie_stats.columns = ['movieId', 'average_rating', 'rating_count']\n",
    "display(movie_stats.head())"
   ]
  },
  {
   "cell_type": "code",
   "execution_count": 76,
   "id": "a63ba8ab",
   "metadata": {},
   "outputs": [
    {
     "name": "stdout",
     "output_type": "stream",
     "text": [
      "[{'Rank': 1, 'Title': 'Cops and Robbersons (1994)', 'Genres': 'Comedy', 'Similarity': 0.5498181061555003, 'Average Rating': 2.1666666666666665, 'Rating Count': 9}, {'Rank': 2, 'Title': 'To Live (Huozhe) (1994)', 'Genres': 'Drama', 'Similarity': 0.5449810767978691, 'Average Rating': 4.0, 'Rating Count': 3}, {'Rank': 3, 'Title': 'Beverly Hillbillies, The (1993)', 'Genres': 'Comedy', 'Similarity': 0.5380455669772968, 'Average Rating': 2.675, 'Rating Count': 20}, {'Rank': 4, 'Title': 'North (1994)', 'Genres': 'Comedy', 'Similarity': 0.5248764206089308, 'Average Rating': 2.2142857142857144, 'Rating Count': 7}, {'Rank': 5, 'Title': 'Lassie (1994)', 'Genres': 'Adventure|Children', 'Similarity': 0.5181613195590727, 'Average Rating': 3.0, 'Rating Count': 2}, {'Rank': 6, 'Title': 'Perfect World, A (1993)', 'Genres': 'Crime|Drama|Thriller', 'Similarity': 0.515619976850775, 'Average Rating': 3.3846153846153846, 'Rating Count': 13}, {'Rank': 7, 'Title': 'Radioland Murders (1994)', 'Genres': 'Comedy|Mystery|Romance', 'Similarity': 0.5074579891325981, 'Average Rating': 3.375, 'Rating Count': 4}, {'Rank': 8, 'Title': 'Ace Ventura: When Nature Calls (1995)', 'Genres': 'Comedy', 'Similarity': 0.497560264136898, 'Average Rating': 2.727272727272727, 'Rating Count': 88}, {'Rank': 9, 'Title': 'Miracle on 34th Street (1994)', 'Genres': 'Drama', 'Similarity': 0.4973675079070729, 'Average Rating': 3.223684210526316, 'Rating Count': 38}]\n"
     ]
    }
   ],
   "source": [
    "rank = 1\n",
    "result = []\n",
    "for movieId, sim in top_similar_movies:\n",
    "    target_movieId = movieId + 1  # movieId가 0부터 시작한 경우라면 +1\n",
    "\n",
    "    # 해당 movieId가 movies에 존재하지 않는 경우는 skip\n",
    "    if movies[movies.movieId == target_movieId].empty:\n",
    "        continue\n",
    "    title = movies[movies.movieId ==(target_movieId)].title.values[0]\n",
    "    genres = movies[movies.movieId ==(target_movieId)].genres.values[0]\n",
    "    rating = movie_stats[movie_stats.movieId ==(target_movieId)].average_rating.values[0]\n",
    "    count = movie_stats[movie_stats.movieId ==(target_movieId)].rating_count.values[0]\n",
    "    result.append({\n",
    "        'Rank': rank,\n",
    "        'Title': title,\n",
    "        'Genres': genres,\n",
    "        'Similarity': sim,\n",
    "        'Average Rating': rating,\n",
    "        'Rating Count': count\n",
    "    })\n",
    "    rank = rank+1\n",
    "print(result)"
   ]
  },
  {
   "cell_type": "code",
   "execution_count": null,
   "id": "c0094aef",
   "metadata": {},
   "outputs": [],
   "source": [
    "import pandas as pd\n",
    "from sklearn.metrics.pairwise import cosine_similarity\n",
    "\n",
    "class MovieRecommender:\n",
    "    def __init__(self, movies_path, ratings_path):\n",
    "        self.movies = pd.read_csv(movies_path)\n",
    "        self.ratings = pd.read_csv(ratings_path)\n",
    "        self.movie_stats = None\n",
    "        self.rating_matrix = None\n",
    "        self.movie_similarity = None\n",
    "        self._prepare_data()\n",
    "    def _prepare_data(self):\n",
    "        # 유저-영화 평점 매트릭스\n",
    "        self.rating_matrix = self.ratings.pivot_table(index='userId', columns='movieId', values='rating').fillna(0)\n",
    "\n",
    "        # 영화 간 유사도 계산\n",
    "        self.movie_similarity = cosine_similarity(self.rating_matrix.T)\n",
    "        \n",
    "        # 영화별 평균 평점과 평점 수 집계\n",
    "        self.movie_stats = self.ratings.groupby('movieId')['rating'].agg(['mean', 'count']).reset_index()\n",
    "        self.movie_stats.columns = ['movieId', 'average_rating', 'rating_count']\n",
    "    \n",
    "    def get_movieId(self, title):\n",
    "        movieId = movies[movies.title==title].movieId.values[0]\n",
    "        return movieId + 1\n",
    "    \n",
    "    def get_similar_movies(self, movieId, n=10):\n",
    "        similar_scores = list(enumerate(self.movie_similarity[movieId]))\n",
    "        sorted_scores = sorted(similar_scores, key=lambda x: x[1], reverse=True) \n",
    "        # lambda x: x[1]는 각 튜플의 두 번째 요소(유사도 값)를 기준으로 정렬\n",
    "        top_similar_movies = sorted_scores[1:n+1] \n",
    "        \n",
    "        rank = 1\n",
    "        result = []\n",
    "        for movieId, sim in top_similar_movies:\n",
    "            target_movieId = movieId + 1  # movieId가 0부터 시작한 경우라면 +1\n",
    "\n",
    "            # 해당 movieId가 movies에 존재하지 않는 경우는 skip\n",
    "            if movies[movies.movieId == target_movieId].empty:\n",
    "                continue\n",
    "            title = movies[movies.movieId ==(target_movieId)].title.values[0]\n",
    "            genres = movies[movies.movieId ==(target_movieId)].genres.values[0]\n",
    "            rating = movie_stats[movie_stats.movieId ==(target_movieId)].average_rating.values[0]\n",
    "            count = movie_stats[movie_stats.movieId ==(target_movieId)].rating_count.values[0]\n",
    "            result.append({\n",
    "                'Rank': rank,\n",
    "                'Title': title,\n",
    "                'Genres': genres,\n",
    "                'Similarity': sim,\n",
    "                'Average Rating': rating,\n",
    "                'Rating Count': count\n",
    "            })\n",
    "            rank = rank+1\n",
    "        print(result)"
   ]
  }
 ],
 "metadata": {
  "kernelspec": {
   "display_name": "Python 3 (ipykernel)",
   "language": "python",
   "name": "python3"
  },
  "language_info": {
   "codemirror_mode": {
    "name": "ipython",
    "version": 3
   },
   "file_extension": ".py",
   "mimetype": "text/x-python",
   "name": "python",
   "nbconvert_exporter": "python",
   "pygments_lexer": "ipython3",
   "version": "3.11.4"
  }
 },
 "nbformat": 4,
 "nbformat_minor": 5
}
